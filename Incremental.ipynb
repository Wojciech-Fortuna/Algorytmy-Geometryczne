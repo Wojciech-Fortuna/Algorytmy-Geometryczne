{
 "cells": [
  {
   "cell_type": "code",
   "execution_count": 15,
   "id": "2112a105-228f-4e38-b89f-31f1b6f98847",
   "metadata": {},
   "outputs": [],
   "source": [
    "import numpy as np\n",
    "import pandas as pd\n",
    "from bitalg.tests.test2 import Test\n",
    "from bitalg.visualizer.main import Visualizer\n",
    "import random\n",
    "import copy\n",
    "import time\n",
    "import functools\n",
    "import pygame\n",
    "import csv\n",
    "import decimal\n",
    "decimal.getcontext().prec = 64\n",
    "vis = Visualizer()"
   ]
  },
  {
   "cell_type": "code",
   "execution_count": 16,
   "id": "9a1596d9-3f40-4d12-8da7-451f83f49a1d",
   "metadata": {},
   "outputs": [],
   "source": [
    "def generate_uniform_points(left=-100, right=100, n=100):\n",
    "    random.seed()\n",
    "    points = set()\n",
    "    for i in range(n):\n",
    "        while True:\n",
    "            x = random.uniform(left,right)\n",
    "            y = random.uniform(left,right)\n",
    "            new_point = (x,y)\n",
    "            if new_point not in points:\n",
    "                points.add(new_point)\n",
    "                break\n",
    "    return list(points)"
   ]
  },
  {
   "cell_type": "code",
   "execution_count": 17,
   "id": "15a086b9-513f-418f-a6a4-42a2a4a5b7e3",
   "metadata": {},
   "outputs": [],
   "source": [
    "def generate_rectangle_points(a=(-10, -10), b=(10, -10), c=(10, 10), d=(-10, 10), n=100):\n",
    "    random.seed()\n",
    "    points = set()\n",
    "    edge = c[0]-a[0]\n",
    "    for i in range (n):\n",
    "        while True:\n",
    "            dist=random.uniform(0,edge*4)\n",
    "            if dist<edge:\n",
    "                x=a[0]\n",
    "                y=dist+a[1]\n",
    "            elif dist<edge*2:\n",
    "                x=dist-edge+d[0]\n",
    "                y=d[1]\n",
    "            elif dist<edge*3:\n",
    "                x=b[0]\n",
    "                y=dist-(edge*2)+b[1]\n",
    "            else:\n",
    "                x=dist-(edge*3)+a[0]\n",
    "                y=a[1]\n",
    "            new_point = (x,y)\n",
    "            if new_point not in points:\n",
    "                points.add(new_point)\n",
    "                break\n",
    "    return list(points)"
   ]
  },
  {
   "cell_type": "code",
   "execution_count": 34,
   "id": "c0d3fb3e-16d1-4b4f-9694-75f00d322a11",
   "metadata": {},
   "outputs": [],
   "source": [
    "def orient (a,b,c):\n",
    "    # Występuje tu zamiana typu danych na dokładność do 64 liczb miejsc po przecinku\n",
    "    eps=1e-30\n",
    "    new_a=(decimal.Decimal(a[0]),decimal.Decimal(a[1]))\n",
    "    new_b=(decimal.Decimal(b[0]),decimal.Decimal(b[1]))\n",
    "    new_c=(decimal.Decimal(c[0]),decimal.Decimal(c[1]))\n",
    "    det=(new_b[0]-new_a[0])*(new_c[1]-new_b[1])-(new_b[1]-new_a[1])*(new_c[0]-new_b[0])\n",
    "    if abs(det)<eps:\n",
    "        return 0\n",
    "    elif det>0:\n",
    "        return 1\n",
    "    else:\n",
    "        return -1\n",
    "        \n",
    "\n",
    "def add_to_hull(new_point,hull,is_up):\n",
    "    while True:\n",
    "        if len(hull) == 1:\n",
    "            hull.append(new_point)\n",
    "            return hull\n",
    "        else:\n",
    "            if is_up == True:\n",
    "                if orient(hull[-2],new_point,hull[-1]) > 0:\n",
    "                    hull.append(new_point)\n",
    "                    return hull\n",
    "                else:\n",
    "                    hull.pop()\n",
    "            else:\n",
    "                if orient(hull[-2],new_point,hull[-1]) < 0:\n",
    "                    hull.append(new_point)\n",
    "                    return hull\n",
    "                else:\n",
    "                    hull.pop()\n",
    "\n",
    "\n",
    "def merge_hull(up_hull,down_hull):\n",
    "    # both hulls have at least 2 elements\n",
    "    hull = []\n",
    "    for i in range (len(up_hull)):\n",
    "        hull.append(up_hull[i])\n",
    "    for i in range (len(down_hull)-2,0,-1):\n",
    "        hull.append(down_hull[i])\n",
    "    return hull\n",
    "\n",
    "\n",
    "def incremental_algorithm (Q):\n",
    "    if len(Q) < 2: return Q\n",
    "    points = copy.deepcopy(Q)\n",
    "    points.sort()\n",
    "    up_hull = [points[0]]\n",
    "    down_hull = [points[0]]\n",
    "    for i in range (1, len(points)):\n",
    "        up_hull = add_to_hull(points[i],up_hull,True)\n",
    "        down_hull = add_to_hull(points[i],down_hull,False)\n",
    "    hull = merge_hull(up_hull,down_hull)\n",
    "    return hull"
   ]
  },
  {
   "cell_type": "code",
   "execution_count": 35,
   "id": "6f0b5fed-1708-4cb2-9c19-58f11e28c7f6",
   "metadata": {},
   "outputs": [
    {
     "data": {
      "image/png": "[encoded data removed]",
      "text/plain": [
       "<Figure size 640x480 with 1 Axes>"
      ]
     },
     "metadata": {},
     "output_type": "display_data"
    }
   ],
   "source": [
    "#Q = generate_uniform_points(n = 100)\n",
    "Q = generate_rectangle_points(n = 100)\n",
    "convex_hull = incremental_algorithm (Q)\n",
    "#print (convex_hull)\n",
    "vis.clear()\n",
    "if len(Q)>2:\n",
    "    vis.add_point(Q, color=['red'])\n",
    "    vis.add_point(convex_hull, color=['green'])\n",
    "    vis.add_line_segment([(convex_hull[i], convex_hull[i+1]) for i in range(len(convex_hull)-1)])\n",
    "    vis.add_line_segment([convex_hull[-1], convex_hull[0]])\n",
    "elif len(Q)==2:\n",
    "    vis.add_point(Q, color=['green'])\n",
    "    vis.add_line_segment(Q)\n",
    "else:\n",
    "   vis.add_point(Q, color=['green'])\n",
    "vis.show()"
   ]
  },
  {
   "cell_type": "code",
   "execution_count": null,
   "id": "0cd398c9-8bdb-4537-89c1-42beea1f2f40",
   "metadata": {},
   "outputs": [],
   "source": []
  }
 ],
 "metadata": {
  "kernelspec": {
   "display_name": "Python 3 (ipykernel)",
   "language": "python",
   "name": "python3"
  },
  "language_info": {
   "codemirror_mode": {
    "name": "ipython",
    "version": 3
   },
   "file_extension": ".py",
   "mimetype": "text/x-python",
   "name": "python",
   "nbconvert_exporter": "python",
   "pygments_lexer": "ipython3",
   "version": "3.12.0"
  }
 },
 "nbformat": 4,
 "nbformat_minor": 5
}
