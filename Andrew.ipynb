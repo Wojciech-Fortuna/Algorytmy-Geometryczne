{
 "cells": [
  {
   "cell_type": "code",
   "execution_count": 70,
   "id": "beaed5cf-9b71-4f98-8007-1ca4931a5b61",
   "metadata": {},
   "outputs": [],
   "source": [
    "import numpy as np\n",
    "import pandas as pd\n",
    "from bitalg.tests.test2 import Test\n",
    "from bitalg.visualizer.main import Visualizer\n",
    "import random\n",
    "import copy\n",
    "import time\n",
    "import functools\n",
    "import pygame\n",
    "import csv\n",
    "import decimal\n",
    "decimal.getcontext().prec = 64\n",
    "vis = Visualizer()"
   ]
  },
  {
   "cell_type": "code",
   "execution_count": 81,
   "id": "4d120bab-431e-49e5-a693-ded8436609b1",
   "metadata": {},
   "outputs": [],
   "source": [
    "def generate_uniform_points(left=-100, right=100, n=100):\n",
    "    random.seed()\n",
    "    points = set()\n",
    "    for i in range(n):\n",
    "        while True:\n",
    "            x = random.uniform(left,right)\n",
    "            y = random.uniform(left,right)\n",
    "            new_point = (x,y)\n",
    "            if new_point not in points:\n",
    "                points.add(new_point)\n",
    "                break\n",
    "    return list(points)"
   ]
  },
  {
   "cell_type": "code",
   "execution_count": 82,
   "id": "961d3f8a-b53b-4f95-bc74-8605a265d27c",
   "metadata": {},
   "outputs": [],
   "source": [
    "def orient (a,b,c):\n",
    "    # Występuje tu zamiana typu danych na dokładność do 64 liczb miejsc po przecinku\n",
    "    eps=1e-30\n",
    "    new_a=(decimal.Decimal(a[0]),decimal.Decimal(a[1]))\n",
    "    new_b=(decimal.Decimal(b[0]),decimal.Decimal(b[1]))\n",
    "    new_c=(decimal.Decimal(c[0]),decimal.Decimal(c[1]))\n",
    "    det=(new_b[0]-new_a[0])*(new_c[1]-new_b[1])-(new_b[1]-new_a[1])*(new_c[0]-new_b[0])\n",
    "    if abs(det)<eps:\n",
    "        return 0\n",
    "    elif det>0:\n",
    "        return 1\n",
    "    else:\n",
    "        return -1\n",
    "\n",
    "\n",
    "def Get_convex_hull(P):\n",
    "    convex_hull=[P[0]]\n",
    "    i=1\n",
    "    t=0\n",
    "    while i<len(P):\n",
    "        if t == 0:\n",
    "            convex_hull.append(P[i])\n",
    "            t+=1\n",
    "            i+=1\n",
    "        else:\n",
    "            if orient(convex_hull[t-1],convex_hull[t],P[i])<0:\n",
    "                convex_hull.append(P[i])\n",
    "                t+=1\n",
    "                i+=1\n",
    "            else:\n",
    "                convex_hull.pop()\n",
    "                t-=1\n",
    "    return convex_hull\n",
    "\n",
    "\n",
    "def andrews_monotone_chain_algorithm(Q):\n",
    "    if len(Q)==0: return []\n",
    "    points = sorted(Q, key = lambda point: (point[0],point[1]))\n",
    "    convex_hull_upper = Get_convex_hull(points)\n",
    "    points.reverse()\n",
    "    convex_hull_lower = Get_convex_hull(points)\n",
    "    convex_hull = convex_hull_upper\n",
    "    convex_hull.pop()\n",
    "    convex_hull.extend(convex_hull_lower)\n",
    "    convex_hull.pop()\n",
    "    return convex_hull"
   ]
  },
  {
   "cell_type": "code",
   "execution_count": 83,
   "id": "42b750d7-a90f-4c37-8959-aad09f5d9d45",
   "metadata": {},
   "outputs": [
    {
     "data": {
      "image/png": "[encoded data removed]",
      "text/plain": [
       "<Figure size 640x480 with 1 Axes>"
      ]
     },
     "metadata": {},
     "output_type": "display_data"
    }
   ],
   "source": [
    "#Q = generate_uniform_points(n = 100)\n",
    "Q=[(1,1),(1,2),(2,1),(2,2)]\n",
    "Q.extend(generate_uniform_points(1.1,1.2,10))\n",
    "convex_hull = andrews_monotone_chain_algorithm(Q)\n",
    "vis.clear()\n",
    "if len(Q)>2:\n",
    "    vis.add_point(Q, color=['red'])\n",
    "    vis.add_point(convex_hull, color=['green'])\n",
    "    vis.add_line_segment([(convex_hull[i], convex_hull[i+1]) for i in range(len(convex_hull)-1)])\n",
    "    vis.add_line_segment([convex_hull[-1], convex_hull[0]])\n",
    "elif len(Q)==2:\n",
    "    vis.add_point(Q, color=['green'])\n",
    "    vis.add_line_segment(Q)\n",
    "else:\n",
    "   vis.add_point(Q, color=['green'])\n",
    "vis.show()"
   ]
  },
  {
   "cell_type": "code",
   "execution_count": null,
   "id": "9cd04811-d6e6-42b9-afcd-b3f0922dee51",
   "metadata": {},
   "outputs": [],
   "source": []
  },
  {
   "cell_type": "code",
   "execution_count": null,
   "id": "11d924ac-3836-4893-82e9-4653da96bc30",
   "metadata": {},
   "outputs": [],
   "source": []
  }
 ],
 "metadata": {
  "kernelspec": {
   "display_name": "Python 3 (ipykernel)",
   "language": "python",
   "name": "python3"
  },
  "language_info": {
   "codemirror_mode": {
    "name": "ipython",
    "version": 3
   },
   "file_extension": ".py",
   "mimetype": "text/x-python",
   "name": "python",
   "nbconvert_exporter": "python",
   "pygments_lexer": "ipython3",
   "version": "3.12.0"
  }
 },
 "nbformat": 4,
 "nbformat_minor": 5
}
