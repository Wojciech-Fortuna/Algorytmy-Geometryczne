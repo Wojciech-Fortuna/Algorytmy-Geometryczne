{
 "cells": [
  {
   "cell_type": "code",
   "execution_count": null,
   "id": "6fd8883a-7b78-4ca8-b892-daf260408be4",
   "metadata": {},
   "outputs": [],
   "source": [
    "def Binary_search_on_hull(hull,p1,left,right):\n",
    "    n = len(hull)\n",
    "    left_smaller = ComparePoints(p1,left,(left-1)%n)\n",
    "    left_bigger = ComparePoints(p1,left,(left+1)%n)\n",
    "    right_smaller = ComparePoints(p1,left,(right-1)%n)\n",
    "    right_bigger = ComparePoints(p1,left,(right+1)%n)\n",
    "    if left_smaller > 0 and left_bigger > 0:\n",
    "        return True\n",
    "    elif right_smaller > 0 and right_bigger > 0:\n",
    "        return True\n",
    "    elif left_smaller > 0 and right_smaller > 0:\n",
    "        mid = (left + right)//2\n",
    "        return"
   ]
  }
 ],
 "metadata": {
  "kernelspec": {
   "display_name": "Python 3 (ipykernel)",
   "language": "python",
   "name": "python3"
  },
  "language_info": {
   "codemirror_mode": {
    "name": "ipython",
    "version": 3
   },
   "file_extension": ".py",
   "mimetype": "text/x-python",
   "name": "python",
   "nbconvert_exporter": "python",
   "pygments_lexer": "ipython3",
   "version": "3.12.0"
  }
 },
 "nbformat": 4,
 "nbformat_minor": 5
}
